{
 "cells": [
  {
   "cell_type": "code",
   "execution_count": 69,
   "id": "a9674717-0c08-4d5e-9cb8-7b985d57a195",
   "metadata": {},
   "outputs": [],
   "source": [
    "import matplotlib.pyplot as plt\n",
    "import numpy as np\n",
    "import pandas as pd\n",
    "import os"
   ]
  },
  {
   "cell_type": "code",
   "execution_count": 70,
   "id": "81a3a6ce-1dbe-4a7b-a783-d0d395007038",
   "metadata": {},
   "outputs": [
    {
     "data": {
      "text/plain": [
       "'/Users/zorakramer/Downloads'"
      ]
     },
     "execution_count": 70,
     "metadata": {},
     "output_type": "execute_result"
    }
   ],
   "source": [
    "os.getcwd()"
   ]
  },
  {
   "cell_type": "code",
   "execution_count": 71,
   "id": "c007ac80-05af-4fed-bd55-2d6d43c2e767",
   "metadata": {},
   "outputs": [],
   "source": [
    "os.chdir('/Users/zorakramer/Downloads')"
   ]
  },
  {
   "cell_type": "code",
   "execution_count": 72,
   "id": "dd8b37e3-d14f-4d65-9fb7-b080ed5dc1c5",
   "metadata": {},
   "outputs": [],
   "source": [
    "data = pd.read_csv('RidershipbyRouteTableDownload.csv')"
   ]
  },
  {
   "cell_type": "code",
   "execution_count": 73,
   "id": "5132ebef-4d86-4c82-a258-f91ea3ddc7a6",
   "metadata": {},
   "outputs": [
    {
     "data": {
      "text/html": [
       "<div>\n",
       "<style scoped>\n",
       "    .dataframe tbody tr th:only-of-type {\n",
       "        vertical-align: middle;\n",
       "    }\n",
       "\n",
       "    .dataframe tbody tr th {\n",
       "        vertical-align: top;\n",
       "    }\n",
       "\n",
       "    .dataframe thead th {\n",
       "        text-align: right;\n",
       "    }\n",
       "</style>\n",
       "<table border=\"1\" class=\"dataframe\">\n",
       "  <thead>\n",
       "    <tr style=\"text-align: right;\">\n",
       "      <th></th>\n",
       "      <th>Month</th>\n",
       "      <th>Route</th>\n",
       "      <th>Service Category</th>\n",
       "      <th>Service Day of the Week</th>\n",
       "      <th>Average Daily Boardings</th>\n",
       "    </tr>\n",
       "  </thead>\n",
       "  <tbody>\n",
       "    <tr>\n",
       "      <th>0</th>\n",
       "      <td>January 2019</td>\n",
       "      <td>1 California</td>\n",
       "      <td>Frequent Local</td>\n",
       "      <td>Sunday</td>\n",
       "      <td>9,600</td>\n",
       "    </tr>\n",
       "    <tr>\n",
       "      <th>1</th>\n",
       "      <td>February 2019</td>\n",
       "      <td>1 California</td>\n",
       "      <td>Frequent Local</td>\n",
       "      <td>Sunday</td>\n",
       "      <td>11,500</td>\n",
       "    </tr>\n",
       "    <tr>\n",
       "      <th>2</th>\n",
       "      <td>March 2019</td>\n",
       "      <td>1 California</td>\n",
       "      <td>Frequent Local</td>\n",
       "      <td>Sunday</td>\n",
       "      <td>11,800</td>\n",
       "    </tr>\n",
       "    <tr>\n",
       "      <th>3</th>\n",
       "      <td>April 2019</td>\n",
       "      <td>1 California</td>\n",
       "      <td>Frequent Local</td>\n",
       "      <td>Sunday</td>\n",
       "      <td>10,800</td>\n",
       "    </tr>\n",
       "    <tr>\n",
       "      <th>4</th>\n",
       "      <td>May 2019</td>\n",
       "      <td>1 California</td>\n",
       "      <td>Frequent Local</td>\n",
       "      <td>Sunday</td>\n",
       "      <td>10,800</td>\n",
       "    </tr>\n",
       "  </tbody>\n",
       "</table>\n",
       "</div>"
      ],
      "text/plain": [
       "           Month         Route Service Category Service Day of the Week  \\\n",
       "0   January 2019  1 California   Frequent Local                  Sunday   \n",
       "1  February 2019  1 California   Frequent Local                  Sunday   \n",
       "2     March 2019  1 California   Frequent Local                  Sunday   \n",
       "3     April 2019  1 California   Frequent Local                  Sunday   \n",
       "4       May 2019  1 California   Frequent Local                  Sunday   \n",
       "\n",
       "  Average Daily Boardings  \n",
       "0                   9,600  \n",
       "1                  11,500  \n",
       "2                  11,800  \n",
       "3                  10,800  \n",
       "4                  10,800  "
      ]
     },
     "execution_count": 73,
     "metadata": {},
     "output_type": "execute_result"
    }
   ],
   "source": [
    "data.head()"
   ]
  },
  {
   "cell_type": "code",
   "execution_count": 74,
   "id": "e421ccd6-d4e5-4992-bdd4-8992204af1a8",
   "metadata": {},
   "outputs": [],
   "source": [
    "data['Average Daily Boardings'] = data['Average Daily Boardings'].apply(\n",
    "    lambda x: pd.to_numeric(str(x).replace(',', ''), errors='coerce')\n",
    ")"
   ]
  },
  {
   "cell_type": "code",
   "execution_count": 75,
   "id": "ac05f139-2bac-4fbc-ada5-8b4f55d00c97",
   "metadata": {},
   "outputs": [
    {
     "data": {
      "text/html": [
       "<div>\n",
       "<style scoped>\n",
       "    .dataframe tbody tr th:only-of-type {\n",
       "        vertical-align: middle;\n",
       "    }\n",
       "\n",
       "    .dataframe tbody tr th {\n",
       "        vertical-align: top;\n",
       "    }\n",
       "\n",
       "    .dataframe thead th {\n",
       "        text-align: right;\n",
       "    }\n",
       "</style>\n",
       "<table border=\"1\" class=\"dataframe\">\n",
       "  <thead>\n",
       "    <tr style=\"text-align: right;\">\n",
       "      <th></th>\n",
       "      <th>Month</th>\n",
       "      <th>Route</th>\n",
       "      <th>Service Category</th>\n",
       "      <th>Service Day of the Week</th>\n",
       "      <th>Average Daily Boardings</th>\n",
       "    </tr>\n",
       "  </thead>\n",
       "  <tbody>\n",
       "    <tr>\n",
       "      <th>0</th>\n",
       "      <td>January 2019</td>\n",
       "      <td>1 California</td>\n",
       "      <td>Frequent Local</td>\n",
       "      <td>Sunday</td>\n",
       "      <td>9600.0</td>\n",
       "    </tr>\n",
       "    <tr>\n",
       "      <th>1</th>\n",
       "      <td>February 2019</td>\n",
       "      <td>1 California</td>\n",
       "      <td>Frequent Local</td>\n",
       "      <td>Sunday</td>\n",
       "      <td>11500.0</td>\n",
       "    </tr>\n",
       "    <tr>\n",
       "      <th>2</th>\n",
       "      <td>March 2019</td>\n",
       "      <td>1 California</td>\n",
       "      <td>Frequent Local</td>\n",
       "      <td>Sunday</td>\n",
       "      <td>11800.0</td>\n",
       "    </tr>\n",
       "    <tr>\n",
       "      <th>3</th>\n",
       "      <td>April 2019</td>\n",
       "      <td>1 California</td>\n",
       "      <td>Frequent Local</td>\n",
       "      <td>Sunday</td>\n",
       "      <td>10800.0</td>\n",
       "    </tr>\n",
       "    <tr>\n",
       "      <th>4</th>\n",
       "      <td>May 2019</td>\n",
       "      <td>1 California</td>\n",
       "      <td>Frequent Local</td>\n",
       "      <td>Sunday</td>\n",
       "      <td>10800.0</td>\n",
       "    </tr>\n",
       "  </tbody>\n",
       "</table>\n",
       "</div>"
      ],
      "text/plain": [
       "           Month         Route Service Category Service Day of the Week  \\\n",
       "0   January 2019  1 California   Frequent Local                  Sunday   \n",
       "1  February 2019  1 California   Frequent Local                  Sunday   \n",
       "2     March 2019  1 California   Frequent Local                  Sunday   \n",
       "3     April 2019  1 California   Frequent Local                  Sunday   \n",
       "4       May 2019  1 California   Frequent Local                  Sunday   \n",
       "\n",
       "   Average Daily Boardings  \n",
       "0                   9600.0  \n",
       "1                  11500.0  \n",
       "2                  11800.0  \n",
       "3                  10800.0  \n",
       "4                  10800.0  "
      ]
     },
     "execution_count": 75,
     "metadata": {},
     "output_type": "execute_result"
    }
   ],
   "source": [
    "data.head()"
   ]
  },
  {
   "cell_type": "code",
   "execution_count": 76,
   "id": "05fac897-8d0f-48f1-81e8-69d6063134de",
   "metadata": {},
   "outputs": [],
   "source": [
    "# Specify the date format and extract year from the Month column\n",
    "data['Year'] = pd.to_datetime(data['Month'], format='%B %Y').dt.year\n"
   ]
  },
  {
   "cell_type": "code",
   "execution_count": 77,
   "id": "f6fce5ad-c849-4dbe-b70b-ca5dfa22212d",
   "metadata": {},
   "outputs": [
    {
     "data": {
      "text/html": [
       "<div>\n",
       "<style scoped>\n",
       "    .dataframe tbody tr th:only-of-type {\n",
       "        vertical-align: middle;\n",
       "    }\n",
       "\n",
       "    .dataframe tbody tr th {\n",
       "        vertical-align: top;\n",
       "    }\n",
       "\n",
       "    .dataframe thead th {\n",
       "        text-align: right;\n",
       "    }\n",
       "</style>\n",
       "<table border=\"1\" class=\"dataframe\">\n",
       "  <thead>\n",
       "    <tr style=\"text-align: right;\">\n",
       "      <th></th>\n",
       "      <th>Month</th>\n",
       "      <th>Route</th>\n",
       "      <th>Service Category</th>\n",
       "      <th>Service Day of the Week</th>\n",
       "      <th>Average Daily Boardings</th>\n",
       "      <th>Year</th>\n",
       "    </tr>\n",
       "  </thead>\n",
       "  <tbody>\n",
       "    <tr>\n",
       "      <th>0</th>\n",
       "      <td>January 2019</td>\n",
       "      <td>1 California</td>\n",
       "      <td>Frequent Local</td>\n",
       "      <td>Sunday</td>\n",
       "      <td>9600.0</td>\n",
       "      <td>2019</td>\n",
       "    </tr>\n",
       "    <tr>\n",
       "      <th>1</th>\n",
       "      <td>February 2019</td>\n",
       "      <td>1 California</td>\n",
       "      <td>Frequent Local</td>\n",
       "      <td>Sunday</td>\n",
       "      <td>11500.0</td>\n",
       "      <td>2019</td>\n",
       "    </tr>\n",
       "    <tr>\n",
       "      <th>2</th>\n",
       "      <td>March 2019</td>\n",
       "      <td>1 California</td>\n",
       "      <td>Frequent Local</td>\n",
       "      <td>Sunday</td>\n",
       "      <td>11800.0</td>\n",
       "      <td>2019</td>\n",
       "    </tr>\n",
       "    <tr>\n",
       "      <th>3</th>\n",
       "      <td>April 2019</td>\n",
       "      <td>1 California</td>\n",
       "      <td>Frequent Local</td>\n",
       "      <td>Sunday</td>\n",
       "      <td>10800.0</td>\n",
       "      <td>2019</td>\n",
       "    </tr>\n",
       "    <tr>\n",
       "      <th>4</th>\n",
       "      <td>May 2019</td>\n",
       "      <td>1 California</td>\n",
       "      <td>Frequent Local</td>\n",
       "      <td>Sunday</td>\n",
       "      <td>10800.0</td>\n",
       "      <td>2019</td>\n",
       "    </tr>\n",
       "  </tbody>\n",
       "</table>\n",
       "</div>"
      ],
      "text/plain": [
       "           Month         Route Service Category Service Day of the Week  \\\n",
       "0   January 2019  1 California   Frequent Local                  Sunday   \n",
       "1  February 2019  1 California   Frequent Local                  Sunday   \n",
       "2     March 2019  1 California   Frequent Local                  Sunday   \n",
       "3     April 2019  1 California   Frequent Local                  Sunday   \n",
       "4       May 2019  1 California   Frequent Local                  Sunday   \n",
       "\n",
       "   Average Daily Boardings  Year  \n",
       "0                   9600.0  2019  \n",
       "1                  11500.0  2019  \n",
       "2                  11800.0  2019  \n",
       "3                  10800.0  2019  \n",
       "4                  10800.0  2019  "
      ]
     },
     "execution_count": 77,
     "metadata": {},
     "output_type": "execute_result"
    }
   ],
   "source": [
    "data.head()"
   ]
  },
  {
   "cell_type": "code",
   "execution_count": 78,
   "id": "43fa9dc1-b1a3-4063-bc0b-36fa8ceb533a",
   "metadata": {},
   "outputs": [
    {
     "name": "stdout",
     "output_type": "stream",
     "text": [
      "   Year              Route Service Day of the Week  Average Daily Boardings\n",
      "0  2019       1 California                Saturday             13983.333333\n",
      "1  2019       1 California                  Sunday             11066.666667\n",
      "2  2019       1 California                 Weekday             22716.666667\n",
      "3  2019        10 Townsend                Saturday              3358.333333\n",
      "4  2019        10 Townsend                  Sunday              2725.000000\n",
      "5  2019        10 Townsend                 Weekday              7408.333333\n",
      "6  2019  12 Folsom/Pacific                Saturday              4000.000000\n",
      "7  2019  12 Folsom/Pacific                  Sunday              3300.000000\n",
      "8  2019  12 Folsom/Pacific                 Weekday              6816.666667\n",
      "9  2019         14 Mission                Saturday             23858.333333\n"
     ]
    }
   ],
   "source": [
    "grouped_df = data.groupby(['Year', 'Route','Service Day of the Week'])['Average Daily Boardings'].mean().reset_index()\n",
    "\n",
    "print(grouped_df.head(10))"
   ]
  },
  {
   "cell_type": "code",
   "execution_count": 79,
   "id": "390dca8d-8de1-4b6e-a84a-319836e8380d",
   "metadata": {},
   "outputs": [],
   "source": [
    "data['Month'] = data['Month'].apply(\n",
    "    lambda x: (x.replace('2019', '')))\n",
    "data['Month'] = data['Month'].apply(\n",
    "    lambda x: (x.replace('2020', '')))\n",
    "data['Month'] = data['Month'].apply(\n",
    "    lambda x: (x.replace('2021', '')))\n",
    "data['Month'] = data['Month'].apply(\n",
    "    lambda x: (x.replace('2022', '')))\n",
    "data['Month'] = data['Month'].apply(\n",
    "    lambda x: (x.replace('2023', '')))\n",
    "data['Month'] = data['Month'].apply(\n",
    "    lambda x: (x.replace('2024', '')))"
   ]
  },
  {
   "cell_type": "code",
   "execution_count": 80,
   "id": "d5b4aba1-d76e-4de1-8e8a-065381f6793b",
   "metadata": {},
   "outputs": [
    {
     "data": {
      "text/plain": [
       "0        January \n",
       "1       February \n",
       "2          March \n",
       "3          April \n",
       "4            May \n",
       "          ...    \n",
       "9931    February \n",
       "9932       March \n",
       "9933       April \n",
       "9934         May \n",
       "9935        June \n",
       "Name: Month, Length: 9936, dtype: object"
      ]
     },
     "execution_count": 80,
     "metadata": {},
     "output_type": "execute_result"
    }
   ],
   "source": [
    "data['Month']"
   ]
  },
  {
   "cell_type": "code",
   "execution_count": 81,
   "id": "7f1a7b79-6cfb-45a8-a31f-33e19ab4419a",
   "metadata": {},
   "outputs": [],
   "source": [
    "cols = list(data.columns.values)"
   ]
  },
  {
   "cell_type": "code",
   "execution_count": 82,
   "id": "6e725415-6e2d-4d08-8b5b-87fea2a1df41",
   "metadata": {},
   "outputs": [],
   "source": [
    "data = data[['Month', 'Year',  'Route',\n",
    " 'Service Category',\n",
    " 'Service Day of the Week',\n",
    " 'Average Daily Boardings']]"
   ]
  },
  {
   "cell_type": "code",
   "execution_count": 83,
   "id": "5997783c-49aa-40c2-8572-6f4c1a09082a",
   "metadata": {},
   "outputs": [
    {
     "data": {
      "text/plain": [
       "['Month',\n",
       " 'Route',\n",
       " 'Service Category',\n",
       " 'Service Day of the Week',\n",
       " 'Average Daily Boardings',\n",
       " 'Year']"
      ]
     },
     "execution_count": 83,
     "metadata": {},
     "output_type": "execute_result"
    }
   ],
   "source": [
    "cols"
   ]
  },
  {
   "cell_type": "code",
   "execution_count": 84,
   "id": "c496dc8f-16fc-4550-b06c-00f201f1aa5a",
   "metadata": {},
   "outputs": [
    {
     "data": {
      "text/html": [
       "<div>\n",
       "<style scoped>\n",
       "    .dataframe tbody tr th:only-of-type {\n",
       "        vertical-align: middle;\n",
       "    }\n",
       "\n",
       "    .dataframe tbody tr th {\n",
       "        vertical-align: top;\n",
       "    }\n",
       "\n",
       "    .dataframe thead th {\n",
       "        text-align: right;\n",
       "    }\n",
       "</style>\n",
       "<table border=\"1\" class=\"dataframe\">\n",
       "  <thead>\n",
       "    <tr style=\"text-align: right;\">\n",
       "      <th></th>\n",
       "      <th>Month</th>\n",
       "      <th>Year</th>\n",
       "      <th>Route</th>\n",
       "      <th>Service Category</th>\n",
       "      <th>Service Day of the Week</th>\n",
       "      <th>Average Daily Boardings</th>\n",
       "    </tr>\n",
       "  </thead>\n",
       "  <tbody>\n",
       "    <tr>\n",
       "      <th>0</th>\n",
       "      <td>January</td>\n",
       "      <td>2019</td>\n",
       "      <td>1 California</td>\n",
       "      <td>Frequent Local</td>\n",
       "      <td>Sunday</td>\n",
       "      <td>9600.0</td>\n",
       "    </tr>\n",
       "    <tr>\n",
       "      <th>1</th>\n",
       "      <td>February</td>\n",
       "      <td>2019</td>\n",
       "      <td>1 California</td>\n",
       "      <td>Frequent Local</td>\n",
       "      <td>Sunday</td>\n",
       "      <td>11500.0</td>\n",
       "    </tr>\n",
       "    <tr>\n",
       "      <th>2</th>\n",
       "      <td>March</td>\n",
       "      <td>2019</td>\n",
       "      <td>1 California</td>\n",
       "      <td>Frequent Local</td>\n",
       "      <td>Sunday</td>\n",
       "      <td>11800.0</td>\n",
       "    </tr>\n",
       "    <tr>\n",
       "      <th>3</th>\n",
       "      <td>April</td>\n",
       "      <td>2019</td>\n",
       "      <td>1 California</td>\n",
       "      <td>Frequent Local</td>\n",
       "      <td>Sunday</td>\n",
       "      <td>10800.0</td>\n",
       "    </tr>\n",
       "    <tr>\n",
       "      <th>4</th>\n",
       "      <td>May</td>\n",
       "      <td>2019</td>\n",
       "      <td>1 California</td>\n",
       "      <td>Frequent Local</td>\n",
       "      <td>Sunday</td>\n",
       "      <td>10800.0</td>\n",
       "    </tr>\n",
       "  </tbody>\n",
       "</table>\n",
       "</div>"
      ],
      "text/plain": [
       "       Month  Year         Route Service Category Service Day of the Week  \\\n",
       "0   January   2019  1 California   Frequent Local                  Sunday   \n",
       "1  February   2019  1 California   Frequent Local                  Sunday   \n",
       "2     March   2019  1 California   Frequent Local                  Sunday   \n",
       "3     April   2019  1 California   Frequent Local                  Sunday   \n",
       "4       May   2019  1 California   Frequent Local                  Sunday   \n",
       "\n",
       "   Average Daily Boardings  \n",
       "0                   9600.0  \n",
       "1                  11500.0  \n",
       "2                  11800.0  \n",
       "3                  10800.0  \n",
       "4                  10800.0  "
      ]
     },
     "execution_count": 84,
     "metadata": {},
     "output_type": "execute_result"
    }
   ],
   "source": [
    "data.head()"
   ]
  },
  {
   "cell_type": "code",
   "execution_count": null,
   "id": "ef54c178-511c-4292-9d11-d70f9c244a7a",
   "metadata": {},
   "outputs": [],
   "source": [
    "grouped_df = data.groupby(['Year', 'Route','Service Day of the Week'])['Average Daily Boardings'].mean().reset_index()\n"
   ]
  },
  {
   "cell_type": "code",
   "execution_count": 106,
   "id": "9dc73cd1-76c4-403e-826d-cb1904ba775f",
   "metadata": {},
   "outputs": [],
   "source": [
    "# Separate weekend and weekday data\n",
    "weekend_df = grouped_df[grouped_df['Service Day of the Week'].isin(['Saturday', 'Sunday'])]\n",
    "weekday_df = grouped_df[grouped_df['Service Day of the Week'] == 'Weekday']\n",
    "\n"
   ]
  },
  {
   "cell_type": "code",
   "execution_count": 108,
   "id": "f12233bb-bfba-44af-a025-29b8838ff779",
   "metadata": {},
   "outputs": [
    {
     "name": "stdout",
     "output_type": "stream",
     "text": [
      "                          Route  Weekend Avg Boardings  Weekday Avg Boardings\n",
      "36                      39 Coit             237.263258             235.000000\n",
      "44                     5 Fulton            8422.916667            6427.777778\n",
      "51    59 Powell/Mason Cable Car            4583.333333            4100.000000\n",
      "55      61 California Cable Car            2958.333333            2845.833333\n",
      "60  76X Marin Headlands Express             295.833333               0.000000\n",
      "69                  9 San Bruno            8672.916667            8433.333333\n",
      "73                E Embarcadero            1806.250000            1791.666667\n",
      "77                  K L M N Owl             141.666667             125.000000\n",
      "83                    S Shuttle            2650.000000            2095.370370\n"
     ]
    }
   ],
   "source": [
    "# Pivot tables to get average daily boardings for each route\n",
    "weekend_avg = weekend_df.groupby('Route')['Average Daily Boardings'].mean()\n",
    "weekday_avg = weekday_df.groupby('Route')['Average Daily Boardings'].mean()\n",
    "\n",
    "# Merge the weekend and weekday averages\n",
    "comparison_df = pd.DataFrame({\n",
    "    'Weekend Avg Boardings': weekend_avg,\n",
    "    'Weekday Avg Boardings': weekday_avg\n",
    "}).reset_index()\n",
    "\n",
    "# Fill missing routes with NaN for comparison\n",
    "comparison_df = comparison_df.fillna(0)\n",
    "\n",
    "# Filter routes where weekend average is greater than weekday average\n",
    "routes_comparison = comparison_df[comparison_df['Weekend Avg Boardings'] > comparison_df['Weekday Avg Boardings']]\n",
    "\n",
    "print(routes_comparison)"
   ]
  },
  {
   "cell_type": "code",
   "execution_count": 112,
   "id": "3abb8ed0-e56d-44b5-8622-411d5d25740b",
   "metadata": {},
   "outputs": [],
   "source": [
    "routes_comparison2 = comparison_df[comparison_df['Weekend Avg Boardings'] == comparison_df['Weekday Avg Boardings']]"
   ]
  },
  {
   "cell_type": "code",
   "execution_count": 114,
   "id": "41f6b0df-d7e2-4e34-948e-a583b3260760",
   "metadata": {},
   "outputs": [
    {
     "data": {
      "text/html": [
       "<div>\n",
       "<style scoped>\n",
       "    .dataframe tbody tr th:only-of-type {\n",
       "        vertical-align: middle;\n",
       "    }\n",
       "\n",
       "    .dataframe tbody tr th {\n",
       "        vertical-align: top;\n",
       "    }\n",
       "\n",
       "    .dataframe thead th {\n",
       "        text-align: right;\n",
       "    }\n",
       "</style>\n",
       "<table border=\"1\" class=\"dataframe\">\n",
       "  <thead>\n",
       "    <tr style=\"text-align: right;\">\n",
       "      <th></th>\n",
       "      <th>Route</th>\n",
       "      <th>Weekend Avg Boardings</th>\n",
       "      <th>Weekday Avg Boardings</th>\n",
       "    </tr>\n",
       "  </thead>\n",
       "  <tbody>\n",
       "    <tr>\n",
       "      <th>59</th>\n",
       "      <td>714 BART Early Bird</td>\n",
       "      <td>0.0</td>\n",
       "      <td>0.0</td>\n",
       "    </tr>\n",
       "  </tbody>\n",
       "</table>\n",
       "</div>"
      ],
      "text/plain": [
       "                  Route  Weekend Avg Boardings  Weekday Avg Boardings\n",
       "59  714 BART Early Bird                    0.0                    0.0"
      ]
     },
     "execution_count": 114,
     "metadata": {},
     "output_type": "execute_result"
    }
   ],
   "source": [
    "routes_comparison2"
   ]
  },
  {
   "cell_type": "code",
   "execution_count": null,
   "id": "4b2ab7a1-5cf5-4e18-857c-b22c0c5b2d91",
   "metadata": {},
   "outputs": [],
   "source": []
  }
 ],
 "metadata": {
  "kernelspec": {
   "display_name": "Python 3 (ipykernel)",
   "language": "python",
   "name": "python3"
  },
  "language_info": {
   "codemirror_mode": {
    "name": "ipython",
    "version": 3
   },
   "file_extension": ".py",
   "mimetype": "text/x-python",
   "name": "python",
   "nbconvert_exporter": "python",
   "pygments_lexer": "ipython3",
   "version": "3.11.7"
  }
 },
 "nbformat": 4,
 "nbformat_minor": 5
}
